{
  "nbformat": 4,
  "nbformat_minor": 0,
  "metadata": {
    "colab": {
      "provenance": [],
      "collapsed_sections": [],
      "authorship_tag": "ABX9TyOKD0hn8BFthOq2UeZa9fOc",
      "include_colab_link": true
    },
    "kernelspec": {
      "name": "python3",
      "display_name": "Python 3"
    },
    "language_info": {
      "name": "python"
    }
  },
  "cells": [
    {
      "cell_type": "markdown",
      "metadata": {
        "id": "view-in-github",
        "colab_type": "text"
      },
      "source": [
        "<a href=\"https://colab.research.google.com/github/joshfitts34/Capstone/blob/main/Code/01-sudoku_solver.ipynb\" target=\"_parent\"><img src=\"https://colab.research.google.com/assets/colab-badge.svg\" alt=\"Open In Colab\"/></a>"
      ]
    },
    {
      "cell_type": "code",
      "execution_count": 1,
      "metadata": {
        "id": "fAWiK_RCImPv"
      },
      "outputs": [],
      "source": [
        "# Backtracking code inspired from Tim Ruscica\n",
        "\n",
        "\n",
        "# Prints the input/ouput board out to screen\n",
        "def print_board(bo):\n",
        "    for i in range(len(bo)):\n",
        "        if i % 3 == 0 and i != 0:\n",
        "            print(\"- - - - - - - - - - - - - \")\n",
        "        for j in range(len(bo[0])):\n",
        "            if j % 3 == 0 and j != 0:\n",
        "                print(\" | \", end=\"\")\n",
        "            if j == 8:\n",
        "                print(bo[i][j])\n",
        "            else:\n",
        "                print(str(bo[i][j]) + \" \", end=\"\")\n",
        "\n",
        "\n",
        "# Checks if the board has a valid solution that can be fitted\n",
        "def valid(bo, num, pos):\n",
        "    # Check row\n",
        "    for i in range(len(bo[0])):\n",
        "        if bo[pos[0]][i] == num and pos[1] != i:\n",
        "            return False\n",
        "    # Check column\n",
        "    for i in range(len(bo)):\n",
        "        if bo[i][pos[1]] == num and pos[0] != i:\n",
        "            return False\n",
        "    # Check box\n",
        "    box_x = pos[1] // 3\n",
        "    box_y = pos[0] // 3\n",
        "    for i in range(box_y * 3, box_y * 3 + 3):\n",
        "        for j in range(box_x * 3, box_x * 3 + 3):\n",
        "            if bo[i][j] == num and (i,j) != pos:\n",
        "                return False\n",
        "    return True\n",
        "\n",
        "\n",
        "# Identifies the empty boxes of the sudoku board \n",
        "def find_empty(bo):\n",
        "    for i in range(len(bo)):\n",
        "        for j in range(len(bo[0])):\n",
        "            if bo[i][j] == 0:\n",
        "                return (i, j)  # row, col\n",
        "    return None\n",
        "\n",
        "\n",
        "# Solves for the empty boxes of the board using backtracking\n",
        "def solve(bo):\n",
        "    find = find_empty(bo)\n",
        "    if not find:\n",
        "        return True\n",
        "    else:\n",
        "        row, col = find\n",
        "    for i in range(1,10):\n",
        "        if valid(bo, i, (row, col)):\n",
        "            bo[row][col] = i\n",
        "            if solve(bo):\n",
        "                return True\n",
        "            bo[row][col] = 0\n",
        "    return False"
      ]
    },
    {
      "cell_type": "code",
      "source": [],
      "metadata": {
        "id": "_gJrOptkIrXP"
      },
      "execution_count": null,
      "outputs": []
    }
  ]
}