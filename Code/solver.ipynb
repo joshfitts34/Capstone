{
  "nbformat": 4,
  "nbformat_minor": 0,
  "metadata": {
    "colab": {
      "provenance": [],
      "authorship_tag": "ABX9TyPL9UdCA3qpum8/MTm7OLf6"
    },
    "kernelspec": {
      "name": "python3",
      "display_name": "Python 3"
    },
    "language_info": {
      "name": "python"
    }
  },
  "cells": [
    {
      "cell_type": "code",
      "execution_count": null,
      "metadata": {
        "id": "91C1QBu__26P"
      },
      "outputs": [],
      "source": [
        "# prints the input board out \n",
        "def print_board(board):\n",
        "    for i in range(len(board)):\n",
        "        if i % 3 == 0 and i != 0:\n",
        "            print(\"- - - - - - - - - - - - - \")\n",
        "        for j in range(len(board[0])):\n",
        "            if j % 3 == 0 and j != 0:\n",
        "                print(\" | \", end=\"\")\n",
        "            if j == 8:\n",
        "                print(board[i][j])\n",
        "            else:\n",
        "                print(str(board[i][j]) + \" \", end=\"\")\n",
        "\n",
        "\n",
        "\n",
        "# Finds the empty boxes on the board to fill in later\n",
        "def get_empty(board):\n",
        "    for i in range(len(board)):\n",
        "        for j in range(len(board[0])):\n",
        "            if board[i][j] == 0:\n",
        "                return (i, j)\n",
        "    return None\n",
        "\n",
        "\n",
        "\n",
        "\n",
        "# Verifys if the board is a valid board with a possible solution\n",
        "def verify_valid(board, num, pos):\n",
        "    # Check row\n",
        "    for i in range(len(board[0])):\n",
        "        if board[pos[0]][i] == num and pos[1] != i:\n",
        "            return False\n",
        "    # Check column\n",
        "    for i in range(len(board)):\n",
        "        if board[i][pos[1]] == num and pos[0] != i:\n",
        "            return False\n",
        "    # Check box\n",
        "    box_x = pos[1] // 3\n",
        "    box_y = pos[0] // 3\n",
        "    for i in range(box_y*3, box_y*3 + 3):\n",
        "        for j in range(box_x * 3, box_x*3 + 3):\n",
        "            if board[i][j] == num and (i,j) != pos:\n",
        "                return False\n",
        "    return True\n",
        "\n",
        "\n",
        "\n",
        "\n",
        "# Solves board\n",
        "def solve(board):\n",
        "    find = find_empty(board)\n",
        "    if not find:\n",
        "        return True\n",
        "    else:\n",
        "        row, col = find\n",
        "    for i in range(1,10):\n",
        "        if valid(board, i, (row, col)):\n",
        "            board[row][col] = i\n",
        "            if solve(board):\n",
        "                return True\n",
        "            board[row][col] = 0\n",
        "    return False"
      ]
    }
  ]
}