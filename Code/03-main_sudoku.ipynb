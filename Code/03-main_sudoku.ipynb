{
  "nbformat": 4,
  "nbformat_minor": 0,
  "metadata": {
    "colab": {
      "provenance": [],
      "collapsed_sections": [],
      "mount_file_id": "1kzglecoa6iA2XAK5KbNh9zg9B_ZORaDm",
      "authorship_tag": "ABX9TyOpY76TJGxUxE88K4YVhVI2"
    },
    "kernelspec": {
      "name": "python3",
      "display_name": "Python 3"
    },
    "language_info": {
      "name": "python"
    }
  },
  "cells": [
    {
      "cell_type": "code",
      "source": [
        "import import_ipynb\n",
        "import sudoku_solver as ss\n",
        "import img_preprocessing as ip\n",
        "import cv2\n",
        "import numpy as np\n",
        "from google.colab.patches import cv2_imshow"
      ],
      "metadata": {
        "id": "XfykP5DMuxCy"
      },
      "execution_count": 19,
      "outputs": []
    },
    {
      "cell_type": "code",
      "execution_count": 1,
      "metadata": {
        "id": "NQGwNb-DIzai"
      },
      "outputs": [],
      "source": [
        "# Read in the image and the model \n",
        "pathImage = \"\"\n",
        "heightImg = 450\n",
        "widthImg = 450\n",
        "model = ip.intializePredectionModel() \n",
        "\n",
        "# Preprocess and fit the image to size\n",
        "img = cv2.imread(pathImage)\n",
        "img = cv2.resize(img, (widthImg, heightImg))\n",
        "imgBlank = np.zeros((heightImg, widthImg, 3), np.uint8) # Test\n",
        "imgThreshold = preProcess(img)\n",
        "\n",
        "# Finding image contours\n",
        "imgContours = img.copy() # Test\n",
        "imgBigContour = img.copy() # Test\n",
        "contours, hierarchy = cv2.findContours(imgThreshold, cv2.RETR_EXTERNAL, cv2.CHAIN_APPROX_SIMPLE) # Find contours, external for board\n",
        "cv2.drawContours(imgContours, contours, -1, (0, 255, 0), 3) # Display the contours found\n",
        "\n",
        "# Find largest contour \n",
        "biggest, maxArea = biggestContour(contours)\n",
        "\n",
        "if biggest.size != 0:\n",
        "    biggest = reorder(biggest)\n",
        "    print(biggest)\n",
        "    cv2.drawContours(imgBigContour, biggest, -1, (255, 0, 0), 30)\n",
        "    pts1 = np.float32(biggest) # Points for warping\n",
        "    pts2 = np.float32([[0, 0],[widthImg, 0], [0, heightImg],[widthImg, heightImg]]) # Points for warping\n",
        "    matrix = cv2.getPerspectiveTransform(pts1, pts2)\n",
        "    imgWarpColored = cv2.warpPerspective(img, matrix, (widthImg, heightImg))\n",
        "    imgDetectedDigits = imgBlank.copy()\n",
        "    imgWarpColored = cv2.cvtColor(imgWarpColored,cv2.COLOR_BGR2GRAY)\n",
        "\n",
        "    # Splitting image into boxes and getting the digit in every box\n",
        "    imgSolvedDigits = imgBlank.copy()\n",
        "    boxes = splitBoxes(imgWarpColored)\n",
        "    numbers = getPredection(boxes, model)\n",
        "    imgDetectedDigits = displayNumbers(imgDetectedDigits, numbers, color=(255, 0, 255))\n",
        "    numbers = np.asarray(numbers)\n",
        "    posArray = np.where(numbers > 0, 0, 1) # prints value 1 where needs to find digit\n",
        "\n",
        "\n",
        "    # Finds the solution to the board\n",
        "    board = np.array_split(numbers,9)\n",
        "    print(board)\n",
        "    try:\n",
        "        ss.solve(board)\n",
        "    except:\n",
        "        pass\n",
        "    print(board)\n",
        "    flatList = []\n",
        "    for sublist in board:\n",
        "        for item in sublist:\n",
        "            flatList.append(item)\n",
        "    solvedNumbers =flatList*posArray\n",
        "    imgSolvedDigits= displayNumbers(imgSolvedDigits,solvedNumbers)\n",
        "\n",
        "    # Prints the solution to the board\n",
        "    pts2 = np.float32(biggest) # Points for warping\n",
        "    pts1 =  np.float32([[0, 0],[widthImg, 0], [0, heightImg],[widthImg, heightImg]]) # Points for warping\n",
        "    matrix = cv2.getPerspectiveTransform(pts1, pts2)\n",
        "    imgInvWarpColored = img.copy()\n",
        "    imgInvWarpColored = cv2.warpPerspective(imgSolvedDigits, matrix, (widthImg, heightImg))\n",
        "    inv_perspective = cv2.addWeighted(imgInvWarpColored, 1, img, 0.5, 1)\n",
        "    imgDetectedDigits = drawGrid(imgDetectedDigits)\n",
        "    imgSolvedDigits = drawGrid(imgSolvedDigits)\n",
        "\n",
        "imageArray = ([img,imgThreshold,imgContours, imgBigContour],\n",
        "              [imgDetectedDigits, imgSolvedDigits,imgInvWarpColored,inv_perspective])\n",
        "\n",
        "stackedImage = stackImages(imageArray, 1)\n",
        "cv2_imshow(stackedImage)\n",
        "\n",
        "else:\n",
        "    print(\"Not a valid board\")\n"
      ]
    }
  ]
}