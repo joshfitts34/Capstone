{
  "nbformat": 4,
  "nbformat_minor": 0,
  "metadata": {
    "colab": {
      "provenance": [],
      "authorship_tag": "ABX9TyMphjdtuJ53F6gDquyuwlEi",
      "include_colab_link": true
    },
    "kernelspec": {
      "name": "python3",
      "display_name": "Python 3"
    },
    "language_info": {
      "name": "python"
    }
  },
  "cells": [
    {
      "cell_type": "markdown",
      "metadata": {
        "id": "view-in-github",
        "colab_type": "text"
      },
      "source": [
        "<a href=\"https://colab.research.google.com/github/joshfitts34/Capstone/blob/main/Code/image_reader.ipynb\" target=\"_parent\"><img src=\"https://colab.research.google.com/assets/colab-badge.svg\" alt=\"Open In Colab\"/></a>"
      ]
    },
    {
      "cell_type": "code",
      "execution_count": null,
      "metadata": {
        "id": "dHqmM8OKQJRk"
      },
      "outputs": [],
      "source": [
        "# Reading in the image and resizing to declared size and preprocessing \n",
        "img = cv2.imread(pathImage)\n",
        "img = cv2.resize(img, (widthImg, heightImg))  # resizing to make a square\n",
        "imgBlank = np.zeros((heightImg, widthImg, 3), np.uint8) # for testing\n",
        "imgThreshold = preProcess(img)\n",
        "\n",
        "\n",
        "imgContours = img.copy() \n",
        "imgBigContour = img.copy()\n",
        "\n",
        "contours, hierarchy = cv2.findContours(imgThreshold, cv2.RETR_EXTERNAL, cv2.CHAIN_APPROX_SIMPLE) # Finding external contour to use for board\n",
        "cv2.drawContours(imgContours, contours, -1, (0, 255, 0), 3) # Drawing the contours on the image\n",
        "\n",
        "biggest, maxArea = biggestContour(contours) # Finding largest contour area and using as board edges\n",
        "#print(biggest)\n",
        "\n",
        "if biggest.size != 0:\n",
        "    biggest = reorder(biggest)\n",
        "    #print(biggest)\n",
        "    cv2.drawContours(imgBigContour, biggest, -1, (255, 0, 0), 30) # Showing where the board is\n",
        "    pts1 = np.float32(biggest) # \n",
        "    pts2 = np.float32([[0, 0],[widthImg, 0], [0, heightImg],[widthImg, heightImg]]) # Setting points for warping image\n",
        "\n",
        "    matrix = cv2.getPerspectiveTransform(pts1, pts2) \n",
        "    imgWarpColored = cv2.warpPerspective(img, matrix, (widthImg, heightImg))\n",
        "    imgDetectedDigits = imgBlank.copy()\n",
        "    imgWarpColored = cv2.cvtColor(imgWarpColored,cv2.COLOR_BGR2GRAY) # Using grayscale \n",
        "\n",
        "    \n",
        "    imgSolvedDigits = imgBlank.copy()\n",
        "    boxes = splitBoxes(imgWarpColored)\n",
        "    print(len(boxes))\n",
        "\n",
        "    #cv2_imshow(boxes[1])\n",
        "    numbers = getPredection(boxes, model)\n",
        "    print(numbers)\n",
        "\n",
        "    imgDetectedDigits = displayNumbers(imgDetectedDigits, numbers, color=(255, 0, 255))\n",
        "    numbers = np.asarray(numbers)\n",
        "    posArray = np.where(numbers > 0, 0, 1) # prints value 1 where needs to find digit\n",
        "    print(posArray)\n",
        "\n",
        "\n",
        "\n",
        "\n",
        "\n",
        "\n",
        "\n",
        "\n",
        "else:\n",
        "    print(\"No Sudoku Found\")"
      ]
    }
  ]
}